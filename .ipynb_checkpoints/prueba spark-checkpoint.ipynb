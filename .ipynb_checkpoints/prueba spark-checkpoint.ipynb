{
 "cells": [
  {
   "cell_type": "code",
   "execution_count": 1,
   "metadata": {},
   "outputs": [],
   "source": [
    "import pyspark\n",
    "import pandas as pd\n",
    "import math\n",
    "try: \n",
    "    type(sc)\n",
    "except NameError:\n",
    "    sc = pyspark.SparkContext('local[*]')    \n",
    "    \n",
    "type(sc)\n",
    "import datetime\n",
    "from pyspark.sql.functions import year, month, dayofmonth\n",
    "from pyspark.sql.functions import lit\n",
    "from pyspark.sql.functions import unix_timestamp"
   ]
  },
  {
   "cell_type": "code",
   "execution_count": 2,
   "metadata": {
    "scrolled": true
   },
   "outputs": [],
   "source": [
    " #sqlContext.read.csv('./datos_navent_fiuba/fiuba_2_postulantes_genero_y_edad.csv').option(\"header\",True)\n",
    "dataframe = sqlContext.read.format(\"csv\")\\\n",
    "            .option(\"header\", \"true\")\\\n",
    "            .option(\"inferSchema\", \"true\")\\\n",
    "            .load('/home/kevin/Documents/orgadatos/datos_navent_fiuba/fiuba_2_postulantes_genero_y_edad.csv')"
   ]
  },
  {
   "cell_type": "code",
   "execution_count": 3,
   "metadata": {},
   "outputs": [
    {
     "name": "stdout",
     "output_type": "stream",
     "text": [
      "+------------+-------------------+----+----+\n",
      "|idpostulante|    fechanacimiento|sexo|edad|\n",
      "+------------+-------------------+----+----+\n",
      "|        NM5M|1970-12-03 00:00:00| FEM|  48|\n",
      "|        5awk|1962-12-04 00:00:00| FEM|  56|\n",
      "|        ZaO5|1978-08-10 00:00:00| FEM|  40|\n",
      "|        NdJl|1969-05-09 00:00:00|MASC|  49|\n",
      "|        eo2p|1981-02-16 00:00:00|MASC|  37|\n",
      "|        Ez8J|1968-12-18 00:00:00|MASC|  50|\n",
      "|        aOQq|1966-07-16 00:00:00|MASC|  52|\n",
      "|        8BkL|1976-07-21 00:00:00| FEM|  42|\n",
      "|        1d2B|1976-02-28 00:00:00|MASC|  42|\n",
      "|        NPBx|1981-03-09 00:00:00|MASC|  37|\n",
      "|        NRE5|1973-02-13 00:00:00|MASC|  45|\n",
      "|        YGBY|1963-04-09 00:00:00| FEM|  55|\n",
      "|        6aGl|1967-01-30 00:00:00| FEM|  51|\n",
      "|        EbVz|1977-07-16 00:00:00|MASC|  41|\n",
      "|        EBO0|1973-09-11 00:00:00| FEM|  45|\n",
      "|        10bb|1954-08-30 00:00:00|MASC|  64|\n",
      "|        eWO2|1959-01-05 00:00:00|MASC|  59|\n",
      "|        6Kbl|1976-09-03 00:00:00|MASC|  42|\n",
      "|        Ym2X|1964-01-19 00:00:00|MASC|  54|\n",
      "|        ZqWb|1971-11-08 00:00:00|MASC|  47|\n",
      "+------------+-------------------+----+----+\n",
      "only showing top 20 rows\n",
      "\n"
     ]
    }
   ],
   "source": [
    "dataframe= dataframe.withColumn(\"edad\", 2018 - year(dataframe.fechanacimiento))\n",
    "dataframe.show()"
   ]
  },
  {
   "cell_type": "code",
   "execution_count": 36,
   "metadata": {},
   "outputs": [
    {
     "data": {
      "text/plain": [
       "(Row(edad=27), 11925)"
      ]
     },
     "execution_count": 36,
     "metadata": {},
     "output_type": "execute_result"
    }
   ],
   "source": [
    "dataframe.select(dataframe.edad).rdd.map(lambda x: (x,1)).reduceByKey(lambda x,y : x + y).reduce(lambda x,y: x if x[1]> y[1]else y)"
   ]
  },
  {
   "cell_type": "code",
   "execution_count": null,
   "metadata": {},
   "outputs": [],
   "source": []
  },
  {
   "cell_type": "code",
   "execution_count": null,
   "metadata": {},
   "outputs": [],
   "source": []
  }
 ],
 "metadata": {
  "kernelspec": {
   "display_name": "Python 3",
   "language": "python",
   "name": "python3"
  },
  "language_info": {
   "codemirror_mode": {
    "name": "ipython",
    "version": 3
   },
   "file_extension": ".py",
   "mimetype": "text/x-python",
   "name": "python",
   "nbconvert_exporter": "python",
   "pygments_lexer": "ipython3",
   "version": "3.6.4"
  }
 },
 "nbformat": 4,
 "nbformat_minor": 2
}
