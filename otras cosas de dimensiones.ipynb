{
 "cells": [
  {
   "cell_type": "code",
   "execution_count": 8,
   "metadata": {},
   "outputs": [],
   "source": [
    "# usaremos la implementacion base de svd\n",
    "from scipy.linalg import svd # https://docs.scipy.org/doc/scipy/reference/generated/scipy.linalg.svd.html\n",
    "# por otro lado hay otras opciones como svds \n",
    "# https://docs.scipy.org/doc/scipy/reference/generated/scipy.sparse.linalg.svds.html \n",
    "from scipy.sparse.linalg import svds\n",
    "# la usaremos para verificar el calculo de autovalores/eigenvalues\n",
    "# https://docs.scipy.org/doc/scipy/reference/generated/scipy.sparse.linalg.eigs.html\n",
    "from scipy.sparse.linalg import eigs\n",
    "\n",
    "import numpy as np\n",
    "import matplotlib.pyplot as plt\n",
    "import pandas as pd\n",
    "import seaborn as sns\n",
    "\n",
    "\n",
    "from sklearn import manifold\n",
    "from sklearn.metrics import euclidean_distances\n",
    "\n",
    "import scipy.io\n",
    "import pandas as pd"
   ]
  },
  {
   "cell_type": "code",
   "execution_count": 9,
   "metadata": {},
   "outputs": [],
   "source": [
    "A = np.matrix([[3,1,1,0],[2,1,0,2],[3,3,0,1],[0,1,2,0],[2,0,0,2]])"
   ]
  },
  {
   "cell_type": "code",
   "execution_count": 10,
   "metadata": {},
   "outputs": [
    {
     "data": {
      "text/plain": [
       "(5, 4)"
      ]
     },
     "execution_count": 10,
     "metadata": {},
     "output_type": "execute_result"
    }
   ],
   "source": [
    "A.shape"
   ]
  },
  {
   "cell_type": "code",
   "execution_count": 11,
   "metadata": {},
   "outputs": [],
   "source": [
    "u, s, vt = svd(A)"
   ]
  },
  {
   "cell_type": "code",
   "execution_count": 12,
   "metadata": {},
   "outputs": [
    {
     "data": {
      "text/plain": [
       "(5, 5)"
      ]
     },
     "execution_count": 12,
     "metadata": {},
     "output_type": "execute_result"
    }
   ],
   "source": [
    "u.shape"
   ]
  },
  {
   "cell_type": "code",
   "execution_count": 13,
   "metadata": {},
   "outputs": [
    {
     "data": {
      "text/plain": [
       "(4,)"
      ]
     },
     "execution_count": 13,
     "metadata": {},
     "output_type": "execute_result"
    }
   ],
   "source": [
    "s.shape"
   ]
  },
  {
   "cell_type": "code",
   "execution_count": 14,
   "metadata": {},
   "outputs": [
    {
     "data": {
      "text/plain": [
       "(4, 4)"
      ]
     },
     "execution_count": 14,
     "metadata": {},
     "output_type": "execute_result"
    }
   ],
   "source": [
    "vt.shape"
   ]
  },
  {
   "cell_type": "code",
   "execution_count": 15,
   "metadata": {},
   "outputs": [],
   "source": [
    "k = 3\n",
    "reconstA = np.matrix(u[:, :k]) * np.diag(s[:k]) * np.matrix(vt[:k, :])"
   ]
  },
  {
   "cell_type": "code",
   "execution_count": 16,
   "metadata": {},
   "outputs": [
    {
     "data": {
      "text/plain": [
       "matrix([[ 2.28110587e+00,  1.67065375e+00,  1.05370736e+00,\n",
       "          6.80331964e-01],\n",
       "        [ 2.29789742e+00,  7.22092572e-01, -2.22554119e-02,\n",
       "          1.71808208e+00],\n",
       "        [ 3.26882758e+00,  2.74921172e+00, -2.00836537e-02,\n",
       "          7.45592585e-01],\n",
       "        [ 3.90519129e-01,  6.35686110e-01,  1.97082498e+00,\n",
       "         -3.69571310e-01],\n",
       "        [ 1.96129065e+00,  3.61118171e-02,  2.89191033e-03,\n",
       "          2.03663295e+00]])"
      ]
     },
     "execution_count": 16,
     "metadata": {},
     "output_type": "execute_result"
    }
   ],
   "source": [
    "reconstA"
   ]
  },
  {
   "cell_type": "code",
   "execution_count": 17,
   "metadata": {},
   "outputs": [
    {
     "data": {
      "text/plain": [
       "matrix([[ 1.8, -0.2, -0.2, -1.2],\n",
       "        [ 0.8, -0.2, -1.2,  0.8],\n",
       "        [ 1.8,  1.8, -1.2, -0.2],\n",
       "        [-1.2, -0.2,  0.8, -1.2],\n",
       "        [ 0.8, -1.2, -1.2,  0.8]])"
      ]
     },
     "execution_count": 17,
     "metadata": {},
     "output_type": "execute_result"
    }
   ],
   "source": [
    "centered = ((A  - A.mean()))\n",
    "centered"
   ]
  },
  {
   "cell_type": "code",
   "execution_count": 18,
   "metadata": {},
   "outputs": [],
   "source": [
    "M = np.matrix([[0,1337,938,840,647,748,984,578,987,800,2505], \n",
    "           [1337,0,749,1005,810,1017,1026,1385,1661,1860,3068],\n",
    "           [938,749,0,262,825,1116,1271,1297,1693,1687,2978], \n",
    "           [840,1005,262,0,920,1198,1385,1296,1712,1630,2919],\n",
    "           [647,810,825,920,0,291,467,579,909,1051,2284], \n",
    "           [748,1017,1116,1198,291,0,236,414,648,887,2051],\n",
    "           [984,1026,1271,1385,467,236,0,586,677,1022,2083], \n",
    "           [578,1385,1297,1296,579,414,586,0,421,480,1713], \n",
    "           [987,1661,1693,1712,909,648,677,421,0,479,1412], \n",
    "           [800,1860,1687,1630,1051,887,1022,480,479,0,1292], \n",
    "           [2505,3068,2978,2919,2284,2051,2083,1713,1412,1292,0]]) "
   ]
  },
  {
   "cell_type": "code",
   "execution_count": 19,
   "metadata": {},
   "outputs": [
    {
     "data": {
      "text/plain": [
       "matrix([[   0, 1337,  938,  840,  647,  748,  984,  578,  987,  800,\n",
       "         2505],\n",
       "        [1337,    0,  749, 1005,  810, 1017, 1026, 1385, 1661, 1860,\n",
       "         3068],\n",
       "        [ 938,  749,    0,  262,  825, 1116, 1271, 1297, 1693, 1687,\n",
       "         2978],\n",
       "        [ 840, 1005,  262,    0,  920, 1198, 1385, 1296, 1712, 1630,\n",
       "         2919],\n",
       "        [ 647,  810,  825,  920,    0,  291,  467,  579,  909, 1051,\n",
       "         2284],\n",
       "        [ 748, 1017, 1116, 1198,  291,    0,  236,  414,  648,  887,\n",
       "         2051],\n",
       "        [ 984, 1026, 1271, 1385,  467,  236,    0,  586,  677, 1022,\n",
       "         2083],\n",
       "        [ 578, 1385, 1297, 1296,  579,  414,  586,    0,  421,  480,\n",
       "         1713],\n",
       "        [ 987, 1661, 1693, 1712,  909,  648,  677,  421,    0,  479,\n",
       "         1412],\n",
       "        [ 800, 1860, 1687, 1630, 1051,  887, 1022,  480,  479,    0,\n",
       "         1292],\n",
       "        [2505, 3068, 2978, 2919, 2284, 2051, 2083, 1713, 1412, 1292,\n",
       "            0]])"
      ]
     },
     "execution_count": 19,
     "metadata": {},
     "output_type": "execute_result"
    }
   ],
   "source": [
    "M"
   ]
  },
  {
   "cell_type": "code",
   "execution_count": 20,
   "metadata": {},
   "outputs": [],
   "source": [
    "cities = pd.DataFrame(M)"
   ]
  },
  {
   "cell_type": "code",
   "execution_count": 21,
   "metadata": {},
   "outputs": [
    {
     "data": {
      "text/plain": [
       "array([[   0.        , 2506.96469859, 2171.37928515, 2077.90158573,\n",
       "        1314.60298189, 1556.59821406, 1749.06346369, 1527.05369912,\n",
       "        2208.83566614, 2159.08499138, 5597.01214935],\n",
       "       [2506.96469859,    0.        , 1396.45980966, 1662.4057868 ,\n",
       "        2263.87610085, 2725.97248702, 2579.45362432, 3268.96176178,\n",
       "        3588.57673737, 3731.40188133, 5802.80957813],\n",
       "       [2171.37928515, 1396.45980966,    0.        ,  498.26197928,\n",
       "        2286.03783871, 2863.97555855, 2873.05534231, 3265.77295598,\n",
       "        3731.89697071, 3737.12804169, 6058.06561536],\n",
       "       [2077.90158573, 1662.4057868 ,  498.26197928,    0.        ,\n",
       "        2376.50583841, 2922.27086356, 2941.13005493, 3233.64438366,\n",
       "        3677.90075994, 3627.11662344, 5907.57259795],\n",
       "       [1314.60298189, 2263.87610085, 2286.03783871, 2376.50583841,\n",
       "           0.        ,  783.75314991, 1053.41539765, 1513.1239209 ,\n",
       "        2270.93196728, 2534.61259367, 5909.44599772],\n",
       "       [1556.59821406, 2725.97248702, 2863.97555855, 2922.27086356,\n",
       "         783.75314991,    0.        ,  553.90703191, 1042.27971294,\n",
       "        1749.29385753, 2145.68170985, 5652.81496248],\n",
       "       [1749.06346369, 2579.45362432, 2873.05534231, 2941.13005493,\n",
       "        1053.41539765,  553.90703191,    0.        , 1236.743304  ,\n",
       "        1655.99758454, 2119.53744954, 5376.51894817],\n",
       "       [1527.05369912, 3268.96176178, 3265.77295598, 3233.64438366,\n",
       "        1513.1239209 , 1042.27971294, 1236.743304  ,    0.        ,\n",
       "        1091.03162191, 1347.80525299, 5229.11789884],\n",
       "       [2208.83566614, 3588.57673737, 3731.89697071, 3677.90075994,\n",
       "        2270.93196728, 1749.29385753, 1655.99758454, 1091.03162191,\n",
       "           0.        ,  868.56375701, 4421.04489912],\n",
       "       [2159.08499138, 3731.40188133, 3737.12804169, 3627.11662344,\n",
       "        2534.61259367, 2145.68170985, 2119.53744954, 1347.80525299,\n",
       "         868.56375701,    0.        , 4174.29071819],\n",
       "       [5597.01214935, 5802.80957813, 6058.06561536, 5907.57259795,\n",
       "        5909.44599772, 5652.81496248, 5376.51894817, 5229.11789884,\n",
       "        4421.04489912, 4174.29071819,    0.        ]])"
      ]
     },
     "execution_count": 21,
     "metadata": {},
     "output_type": "execute_result"
    }
   ],
   "source": [
    "cities -= cities.mean()\n",
    "# y calculamos la matriz de distancias via sklearn\n",
    "distances = euclidean_distances(cities)\n",
    "distances"
   ]
  },
  {
   "cell_type": "code",
   "execution_count": 22,
   "metadata": {},
   "outputs": [
    {
     "data": {
      "text/plain": [
       "array([[ -110.46258011,   315.41497683],\n",
       "       [-1109.75222692,  2038.4191112 ],\n",
       "       [  -99.74202714,  2196.90566094],\n",
       "       [  256.11065595,  2108.0731741 ],\n",
       "       [-1273.70044982,   174.84295031],\n",
       "       [-1217.2172582 ,  -474.8587447 ],\n",
       "       [-1222.4271971 ,  -677.52733934],\n",
       "       [ -524.09280742, -1120.19432737],\n",
       "       [   75.84259525, -1656.55874092],\n",
       "       [  690.47403897, -1459.43464336],\n",
       "       [ 4534.96725655, -1445.08207771]])"
      ]
     },
     "execution_count": 22,
     "metadata": {},
     "output_type": "execute_result"
    }
   ],
   "source": [
    "mds = manifold.MDS(n_components=2, max_iter=3000, eps=1e-9,\n",
    "                   dissimilarity=\"precomputed\", n_jobs=1)\n",
    "pos = mds.fit(distances).embedding_\n",
    "pos"
   ]
  },
  {
   "cell_type": "code",
   "execution_count": 23,
   "metadata": {},
   "outputs": [
    {
     "name": "stderr",
     "output_type": "stream",
     "text": [
      "/home/kevin/anaconda3/lib/python3.6/site-packages/ipykernel_launcher.py:9: RuntimeWarning: divide by zero encountered in true_divide\n",
      "  if __name__ == '__main__':\n"
     ]
    },
    {
     "data": {
      "image/png": "[encoded data removed]",
      "text/plain": [
       "<matplotlib.figure.Figure at 0x7f0177e78198>"
      ]
     },
     "metadata": {},
     "output_type": "display_data"
    }
   ],
   "source": [
    "fig = plt.figure(1)\n",
    "ax = plt.axes([0., 0., 1., 1.])\n",
    "\n",
    "plt.scatter(pos[:, 0], pos[:, 1], color='turquoise', lw=0, label='MDS')\n",
    "plt.legend(scatterpoints=1, loc='best', shadow=False)\n",
    "\n",
    "distances = distances.max() / distances * 100\n",
    "distances[np.isinf(distances)] = 0\n",
    "\n",
    "plt.show()\n",
    "\n"
   ]
  },
  {
   "cell_type": "code",
   "execution_count": 24,
   "metadata": {},
   "outputs": [
    {
     "data": {
      "text/plain": [
       "\"fig = plt.figure(1)\\nax = plt.axes([0., 0., 1., 1.])\\nlabels = range(1, distances.shape[0] + 1)\\n\\nfig.suptitle('Ciudades')\\n\\nplt.scatter(distances[:, 0], distances[:, 1], color='turquoise', lw=0, label='MDS')\\nplt.legend(scatterpoints=1, loc='best', shadow=False)\\n\\ndistances = distances.max() / distances * 100\\ndistances[np.isinf(distances)] = 0\\n\\nfor i, txt in enumerate(labels):\\n    ax.annotate(txt, (distances[i,0], distances[i,1])) \""
      ]
     },
     "execution_count": 24,
     "metadata": {},
     "output_type": "execute_result"
    }
   ],
   "source": [
    "'''fig = plt.figure(1)\n",
    "ax = plt.axes([0., 0., 1., 1.])\n",
    "labels = range(1, distances.shape[0] + 1)\n",
    "\n",
    "fig.suptitle('Ciudades')\n",
    "\n",
    "plt.scatter(distances[:, 0], distances[:, 1], color='turquoise', lw=0, label='MDS')\n",
    "plt.legend(scatterpoints=1, loc='best', shadow=False)\n",
    "\n",
    "distances = distances.max() / distances * 100\n",
    "distances[np.isinf(distances)] = 0\n",
    "\n",
    "for i, txt in enumerate(labels):\n",
    "    ax.annotate(txt, (distances[i,0], distances[i,1])) '''"
   ]
  },
  {
   "cell_type": "code",
   "execution_count": null,
   "metadata": {},
   "outputs": [],
   "source": []
  },
  {
   "cell_type": "code",
   "execution_count": 70,
   "metadata": {},
   "outputs": [],
   "source": [
    "usuarios = [ {5,2,1,5}, {4,5,2,3} ,{2,5,5,1},{5,3,1,5},{3,4,5,2},{1,4,3,5} ]"
   ]
  },
  {
   "cell_type": "code",
   "execution_count": 71,
   "metadata": {},
   "outputs": [],
   "source": [
    "distUser = np.empty((len(usuarios), len(usuarios))) \n",
    "count =0\n",
    "for w in range (0,len(usuarios)):\n",
    "    for i in range (0,len(usuarios)):\n",
    "            distUser[w][i] = 1 - len(usuarios[w] & usuarios [i]) / len(usuarios[w] | usuarios [i])\n",
    "        "
   ]
  },
  {
   "cell_type": "code",
   "execution_count": 72,
   "metadata": {},
   "outputs": [
    {
     "data": {
      "text/plain": [
       "array([[0.  , 0.6 , 0.  , 0.5 , 0.6 , 0.6 ],\n",
       "       [0.6 , 0.  , 0.6 , 0.6 , 0.  , 0.4 ],\n",
       "       [0.  , 0.6 , 0.  , 0.5 , 0.6 , 0.6 ],\n",
       "       [0.5 , 0.6 , 0.5 , 0.  , 0.6 , 0.25],\n",
       "       [0.6 , 0.  , 0.6 , 0.6 , 0.  , 0.4 ],\n",
       "       [0.6 , 0.4 , 0.6 , 0.25, 0.4 , 0.  ]])"
      ]
     },
     "execution_count": 72,
     "metadata": {},
     "output_type": "execute_result"
    }
   ],
   "source": [
    "distUser"
   ]
  },
  {
   "cell_type": "code",
   "execution_count": null,
   "metadata": {},
   "outputs": [],
   "source": []
  }
 ],
 "metadata": {
  "kernelspec": {
   "display_name": "Python 3",
   "language": "python",
   "name": "python3"
  },
  "language_info": {
   "codemirror_mode": {
    "name": "ipython",
    "version": 3
   },
   "file_extension": ".py",
   "mimetype": "text/x-python",
   "name": "python",
   "nbconvert_exporter": "python",
   "pygments_lexer": "ipython3",
   "version": "3.6.4"
  }
 },
 "nbformat": 4,
 "nbformat_minor": 2
}
