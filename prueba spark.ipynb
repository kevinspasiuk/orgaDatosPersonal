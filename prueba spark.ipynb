{
 "cells": [
  {
   "cell_type": "code",
   "execution_count": 1,
   "metadata": {},
   "outputs": [],
   "source": [
    "import pyspark\n",
    "import pandas as pd\n",
    "import math\n",
    "try: \n",
    "    type(sc)\n",
    "except NameError:\n",
    "    sc = pyspark.SparkContext('local[*]')    \n",
    "    \n",
    "type(sc)\n",
    "import datetime\n",
    "from pyspark.sql.functions import year, month, dayofmonth\n"
   ]
  },
  {
   "cell_type": "code",
   "execution_count": 2,
   "metadata": {},
   "outputs": [],
   "source": [
    " #sqlContext.read.csv('./datos_navent_fiuba/fiuba_2_postulantes_genero_y_edad.csv').option(\"header\",True)\n",
    "dataframe = sqlContext.read.format(\"csv\")\\\n",
    "            .option(\"header\", \"true\")\\\n",
    "            .option(\"inferSchema\", \"true\")\\\n",
    "            .load('./datos_navent_fiuba/fiuba_2_postulantes_genero_y_edad.csv')"
   ]
  },
  {
   "cell_type": "code",
   "execution_count": 5,
   "metadata": {},
   "outputs": [
    {
     "data": {
      "text/plain": [
       "[(Row(year(fechanacimiento)=1969), 1088),\n",
       " (Row(year(fechanacimiento)=1981), 4655),\n",
       " (Row(year(fechanacimiento)=1973), 1688),\n",
       " (Row(year(fechanacimiento)=1963), 554),\n",
       " (Row(year(fechanacimiento)=1967), 874),\n",
       " (Row(year(fechanacimiento)=1977), 2938),\n",
       " (Row(year(fechanacimiento)=1959), 284),\n",
       " (Row(year(fechanacimiento)=1971), 1451),\n",
       " (Row(year(fechanacimiento)=1979), 3879),\n",
       " (Row(year(fechanacimiento)=1987), 8283),\n",
       " (Row(year(fechanacimiento)=1975), 2368),\n",
       " (Row(year(fechanacimiento)=1961), 449),\n",
       " (Row(year(fechanacimiento)=1989), 9914),\n",
       " (Row(year(fechanacimiento)=1965), 669),\n",
       " (Row(year(fechanacimiento)=1957), 184),\n",
       " (Row(year(fechanacimiento)=1953), 37),\n",
       " (Row(year(fechanacimiento)=1955), 96),\n",
       " (Row(year(fechanacimiento)=1983), 5447),\n",
       " (Row(year(fechanacimiento)=1985), 6673),\n",
       " (Row(year(fechanacimiento)=1949), 12),\n",
       " (Row(year(fechanacimiento)=1995), 10902),\n",
       " (Row(year(fechanacimiento)=1951), 20),\n",
       " (Row(year(fechanacimiento)=1991), 11925),\n",
       " (Row(year(fechanacimiento)=1993), 11718),\n",
       " (Row(year(fechanacimiento)=1997), 8525),\n",
       " (Row(year(fechanacimiento)=1943), 2),\n",
       " (Row(year(fechanacimiento)=1999), 3654),\n",
       " (Row(year(fechanacimiento)=1947), 7),\n",
       " (Row(year(fechanacimiento)=31), 1),\n",
       " (Row(year(fechanacimiento)=29), 1),\n",
       " (Row(year(fechanacimiento)=1939), 1),\n",
       " (Row(year(fechanacimiento)=1941), 1),\n",
       " (Row(year(fechanacimiento)=33), 1),\n",
       " (Row(year(fechanacimiento)=11), 1),\n",
       " (Row(year(fechanacimiento)=1775), 1),\n",
       " (Row(year(fechanacimiento)=1921), 1),\n",
       " (Row(year(fechanacimiento)=1917), 1),\n",
       " (Row(year(fechanacimiento)=1970), 1288),\n",
       " (Row(year(fechanacimiento)=1962), 474),\n",
       " (Row(year(fechanacimiento)=1978), 3379),\n",
       " (Row(year(fechanacimiento)=1968), 945),\n",
       " (Row(year(fechanacimiento)=1966), 748),\n",
       " (Row(year(fechanacimiento)=1976), 2624),\n",
       " (Row(year(fechanacimiento)=1954), 72),\n",
       " (Row(year(fechanacimiento)=1964), 637),\n",
       " (Row(year(fechanacimiento)=1974), 1965),\n",
       " (Row(year(fechanacimiento)=1972), 1566),\n",
       " (Row(year(fechanacimiento)=1980), 4189),\n",
       " (Row(year(fechanacimiento)=1960), 373),\n",
       " (Row(year(fechanacimiento)=1982), 5018),\n",
       " (Row(year(fechanacimiento)=1958), 234),\n",
       " (Row(year(fechanacimiento)=1952), 30),\n",
       " (Row(year(fechanacimiento)=1956), 160),\n",
       " (Row(year(fechanacimiento)=1950), 29),\n",
       " (Row(year(fechanacimiento)=1984), 5871),\n",
       " (Row(year(fechanacimiento)=1946), 2),\n",
       " (Row(year(fechanacimiento)=None), 4750),\n",
       " (Row(year(fechanacimiento)=1948), 9),\n",
       " (Row(year(fechanacimiento)=1990), 11064),\n",
       " (Row(year(fechanacimiento)=1986), 7644),\n",
       " (Row(year(fechanacimiento)=1992), 11780),\n",
       " (Row(year(fechanacimiento)=1988), 9161),\n",
       " (Row(year(fechanacimiento)=2006), 1),\n",
       " (Row(year(fechanacimiento)=1998), 6466),\n",
       " (Row(year(fechanacimiento)=1994), 11570),\n",
       " (Row(year(fechanacimiento)=1944), 3),\n",
       " (Row(year(fechanacimiento)=1996), 9944),\n",
       " (Row(year(fechanacimiento)=1942), 3),\n",
       " (Row(year(fechanacimiento)=2000), 581),\n",
       " (Row(year(fechanacimiento)=24), 1),\n",
       " (Row(year(fechanacimiento)=12), 1),\n",
       " (Row(year(fechanacimiento)=4), 1)]"
      ]
     },
     "execution_count": 5,
     "metadata": {},
     "output_type": "execute_result"
    }
   ],
   "source": [
    "fechaDF = dataframe.select(year(dataframe.fechanacimiento)).rdd.map(lambda x: (x,1))\n",
    "fechaDF.reduceByKey(lambda x,y : x+y).collect()"
   ]
  },
  {
   "cell_type": "code",
   "execution_count": 6,
   "metadata": {},
   "outputs": [],
   "source": [
    "#dataframe = dataframe.toPandas()"
   ]
  },
  {
   "cell_type": "code",
   "execution_count": 9,
   "metadata": {},
   "outputs": [
    {
     "data": {
      "text/plain": [
       "'today = datetime.date(year=2018,month=2,day=2)\\ndataframe[\"fechanacimiento\"] = pd.to_datetime(dataframe[\"fechanacimiento\"], errors=\"coerce\")\\ndef calc_edad(x):    \\n    if (pd.isnull(x)):\\n        return -1\\n    return math.floor((datetime.datetime.today()-x).days / 365)\\n\\n# calculo edad para cada postulante\\ndataframe[\"edad\"] = dataframe[\"fechanacimiento\"].apply(calc_edad)\\n\\n\\n\\ndf = spark.createDataFrame(dataframe)'"
      ]
     },
     "execution_count": 9,
     "metadata": {},
     "output_type": "execute_result"
    }
   ],
   "source": [
    "'''today = datetime.date(year=2018,month=2,day=2)\n",
    "dataframe[\"fechanacimiento\"] = pd.to_datetime(dataframe[\"fechanacimiento\"], errors=\"coerce\")\n",
    "def calc_edad(x):    \n",
    "    if (pd.isnull(x)):\n",
    "        return -1\n",
    "    return math.floor((datetime.datetime.today()-x).days / 365)\n",
    "\n",
    "# calculo edad para cada postulante\n",
    "dataframe[\"edad\"] = dataframe[\"fechanacimiento\"].apply(calc_edad)\n",
    "\n",
    "\n",
    "\n",
    "df = spark.createDataFrame(dataframe)'''"
   ]
  },
  {
   "cell_type": "code",
   "execution_count": 10,
   "metadata": {},
   "outputs": [
    {
     "data": {
      "text/plain": [
       "'hoy= datetime.datetime.today().year\\nfechaDF = dataframe.edad.map(lambda x: (x,1))\\n\\n#fechaDF.reduceByKey(lambda x,y : x+y).collect()'"
      ]
     },
     "execution_count": 10,
     "metadata": {},
     "output_type": "execute_result"
    }
   ],
   "source": [
    "'''hoy= datetime.datetime.today().year\n",
    "fechaDF = dataframe.edad.map(lambda x: (x,1))\n",
    "\n",
    "#fechaDF.reduceByKey(lambda x,y : x+y).collect()'''"
   ]
  }
 ],
 "metadata": {
  "kernelspec": {
   "display_name": "Python 3",
   "language": "python",
   "name": "python3"
  },
  "language_info": {
   "codemirror_mode": {
    "name": "ipython",
    "version": 3
   },
   "file_extension": ".py",
   "mimetype": "text/x-python",
   "name": "python",
   "nbconvert_exporter": "python",
   "pygments_lexer": "ipython3",
   "version": "3.6.4"
  }
 },
 "nbformat": 4,
 "nbformat_minor": 2
}
